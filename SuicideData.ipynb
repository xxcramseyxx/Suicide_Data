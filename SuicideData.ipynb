{
  "nbformat": 4,
  "nbformat_minor": 0,
  "metadata": {
    "colab": {
      "name": "SuicideData.ipynb",
      "provenance": [],
      "collapsed_sections": [],
      "authorship_tag": "ABX9TyN6JmcEVdvwjEVt3yhhuOC1",
      "include_colab_link": true
    },
    "kernelspec": {
      "name": "python3",
      "display_name": "Python 3"
    }
  },
  "cells": [
    {
      "cell_type": "markdown",
      "metadata": {
        "id": "view-in-github",
        "colab_type": "text"
      },
      "source": [
        "<a href=\"https://colab.research.google.com/github/xxcramseyxx/Suicide_Data/blob/main/SuicideData.ipynb\" target=\"_parent\"><img src=\"https://colab.research.google.com/assets/colab-badge.svg\" alt=\"Open In Colab\"/></a>"
      ]
    },
    {
      "cell_type": "code",
      "metadata": {
        "id": "md1T5b-ZtZVA"
      },
      "source": [
        "import pandas as pd\n",
        "import seaborn as sns\n",
        "import matplotlib.pyplot as plt\n",
        "df = pd.read_csv('/content/twentyeleven.csv')"
      ],
      "execution_count": null,
      "outputs": []
    },
    {
      "cell_type": "code",
      "metadata": {
        "id": "exQMz03A7ANT",
        "colab": {
          "base_uri": "https://localhost:8080/",
          "height": 282
        },
        "outputId": "7182083a-b095-4bc1-bd9a-925264c37deb"
      },
      "source": [
        "graph = df['vet_suicides'].values\n",
        "sns.distplot(graph, color='blue')\n",
        "median = df['vet_suicides'].median()\n",
        "plt.axvline(median, 0,1, color='orange')\n"
      ],
      "execution_count": null,
      "outputs": [
        {
          "output_type": "execute_result",
          "data": {
            "text/plain": [
              "<matplotlib.lines.Line2D at 0x7f15d19ed0f0>"
            ]
          },
          "metadata": {
            "tags": []
          },
          "execution_count": 7
        },
        {
          "output_type": "display_data",
          "data": {
            "image/png": "[encoded data removed]",
            "text/plain": [
              "<Figure size 432x288 with 1 Axes>"
            ]
          },
          "metadata": {
            "tags": [],
            "needs_background": "light"
          }
        }
      ]
    },
    {
      "cell_type": "code",
      "metadata": {
        "id": "NYvCZfO7-sZP"
      },
      "source": [
        "df.loc[df['vet_suicides'] > 500, 'vet_suicides'] = df['vet_suicides'].median()\n"
      ],
      "execution_count": null,
      "outputs": []
    },
    {
      "cell_type": "code",
      "metadata": {
        "id": "JJjjE2T---62",
        "colab": {
          "base_uri": "https://localhost:8080/",
          "height": 285
        },
        "outputId": "b236776c-4a76-44cd-9a14-65842492c7fc"
      },
      "source": [
        "graph_as =df['all_suicides'].values\n",
        "sns.distplot(graph_as, color='red')\n",
        "median_as = df['all_suicides'].median()\n",
        "plt.axvline(median_as, 0, 1, color='black')"
      ],
      "execution_count": null,
      "outputs": [
        {
          "output_type": "execute_result",
          "data": {
            "text/plain": [
              "<matplotlib.lines.Line2D at 0x7f15d19ed0b8>"
            ]
          },
          "metadata": {
            "tags": []
          },
          "execution_count": 9
        },
        {
          "output_type": "display_data",
          "data": {
            "image/png": "[encoded data removed]",
            "text/plain": [
              "<Figure size 432x288 with 1 Axes>"
            ]
          },
          "metadata": {
            "tags": [],
            "needs_background": "light"
          }
        }
      ]
    },
    {
      "cell_type": "code",
      "metadata": {
        "id": "KBF9AWUh_bo7"
      },
      "source": [
        "df.loc[df['all_suicides'] >2500, 'all_suicides'] = df['all_suicides'].median()"
      ],
      "execution_count": null,
      "outputs": []
    },
    {
      "cell_type": "code",
      "metadata": {
        "id": "yr0Tqanq_tih",
        "colab": {
          "base_uri": "https://localhost:8080/",
          "height": 255
        },
        "outputId": "b51e103c-81c5-4241-8d81-8483c439a9d9"
      },
      "source": [
        "for column in df:\n",
        "  print(column, ':', df[column].isnull().sum())"
      ],
      "execution_count": null,
      "outputs": [
        {
          "output_type": "stream",
          "text": [
            "Unnamed: 0 : 0\n",
            "state : 0\n",
            "vet_pop : 0\n",
            "overall_pop_18 : 0\n",
            "vet_pop_p : 0\n",
            "vet_suicides : 0\n",
            "all_suicides : 0\n",
            "vet_suicides_p : 0\n",
            "vet_males : 0\n",
            "vet_males_p : 0\n",
            "vet_females : 0\n",
            "vet_females_p : 0\n",
            "vet_rate : 0\n",
            "civ_rate : 0\n"
          ],
          "name": "stdout"
        }
      ]
    },
    {
      "cell_type": "code",
      "metadata": {
        "id": "slg30PgcDojf"
      },
      "source": [
        "df['vet_males'].fillna(df['vet_males'].median(), inplace=True)"
      ],
      "execution_count": null,
      "outputs": []
    },
    {
      "cell_type": "code",
      "metadata": {
        "id": "PO4u4V8tEBI_"
      },
      "source": [
        "df['vet_females'].fillna(df['vet_females'].median(), inplace=True)"
      ],
      "execution_count": null,
      "outputs": []
    },
    {
      "cell_type": "code",
      "metadata": {
        "id": "cW9wRhmrEN3K"
      },
      "source": [
        "del df['vet_15_24']\n",
        "del df['vet_18_29']\n",
        "del df['vet_17_34']\n",
        "del df['vet_25_34']\n",
        "del df['vet_30_39']\n",
        "del df['vet_25_44']\n",
        "del df['vet_35_44']\n",
        "del df['vet_35-54']\n",
        "del df['vet_40_49']\n",
        "del df['vet_45_54']\n",
        "del df['vet_50_59']\n",
        "del df['vet_45_64']\n",
        "del df['vet_55_64']\n",
        "del df['vet_60']\n",
        "del df['vet_65']"
      ],
      "execution_count": null,
      "outputs": []
    },
    {
      "cell_type": "code",
      "metadata": {
        "id": "GXYXxk8vMYyV"
      },
      "source": [
        "def get_state(name):\n",
        "  return name"
      ],
      "execution_count": null,
      "outputs": []
    },
    {
      "cell_type": "code",
      "metadata": {
        "id": "fJR062aSF_q9",
        "colab": {
          "base_uri": "https://localhost:8080/",
          "height": 54
        },
        "outputId": "998cdd53-9f62-4f80-8a33-4ac8927e3684"
      },
      "source": [
        "states = set([x for x in df['state'].map(lambda x: get_state(x))])\n",
        "print(states)"
      ],
      "execution_count": null,
      "outputs": [
        {
          "output_type": "stream",
          "text": [
            "{'Delaware', 'Louisiana', 'Nevada', 'North Dakota**', 'Nebraska', 'Wisconsin', 'Texas', 'Tennessee', 'Vermont', 'Minnesota', 'California', 'Arkansas', 'Missouri***', 'Maryland', 'New Jersey', 'Kansas', 'North Carolina', 'Massachusetts', 'Wyoming', 'Indiana', 'Maine', 'Iowa', 'South Dakota', 'Oregon', 'Alaska', 'Alabama', 'Washington', 'Georgia', 'South Carolina', 'Mississippi', 'New York', 'Illinois', 'Colorado', 'Connecticut', 'Kentucky', 'New Hampshire', 'Montana', 'Oklahoma', 'Florida*', 'Michigan', 'Ohio', 'Utah', 'West Virginia', 'Virginia', 'Rhode Island', 'Pennsylvania', 'Arizona', 'Hawaii', 'New Mexico', 'Idaho'}\n"
          ],
          "name": "stdout"
        }
      ]
    },
    {
      "cell_type": "code",
      "metadata": {
        "id": "uQ9bVPw7M3RG"
      },
      "source": [
        "def make_regions(x):\n",
        "  states = x['state']\n",
        "  if states in ['California', 'Oregon', 'Washington', 'Idaho', 'Montana', 'Wyoming','Alaska']:\n",
        "    return 'Northwest'\n",
        "  elif states in ['Nevada', 'Arizona', 'Hawaii', 'Utah', 'New Mexico', 'Wyoming','Colorado']:\n",
        "    return 'Southwest'\n",
        "  elif states in ['Texas', 'Arkansas', 'Oklahoma', 'Louisiana', 'Montana', 'Mississippi']:\n",
        "    return 'Central'\n",
        "  elif states in ['Missouri***', 'Kansas', 'Illinois', 'Wisconsin', 'Minnesota', 'North Dakota**','South Dakota','Nebraska', 'Iowa']:\n",
        "    return 'Midwest'\n",
        "  elif states in ['Alabama', 'Florida*', 'Georgia', 'Tennessee', 'West Virginia', 'Kentucky','Virginia','North Carolina', 'South Carolina']:\n",
        "    return 'Southeast'\n",
        "  elif states in ['Michigan', 'Ohio', 'New Jersey', 'Indiana', 'Pennsylvania', 'Maryland','Connecticut', 'New Hampshire','Vermont','Rhode Island', 'Massachusetts', 'Delaware', 'Maine','New York']:\n",
        "    return 'Northeast'\n",
        "  else:\n",
        "    return states"
      ],
      "execution_count": null,
      "outputs": []
    },
    {
      "cell_type": "code",
      "metadata": {
        "id": "9h7j4IuMYCUF"
      },
      "source": [
        "df['states'] = df['state'].map(lambda x: get_state(x))"
      ],
      "execution_count": null,
      "outputs": []
    },
    {
      "cell_type": "code",
      "metadata": {
        "id": "iAAqjCK5YaLv"
      },
      "source": [
        "df ['states'] = df.apply(make_regions, axis=1)"
      ],
      "execution_count": null,
      "outputs": []
    },
    {
      "cell_type": "code",
      "metadata": {
        "id": "ZCLfJxc7ePAw",
        "colab": {
          "base_uri": "https://localhost:8080/",
          "height": 136
        },
        "outputId": "cae3bb33-ee3b-443b-b036-f05d0bb29b3f"
      },
      "source": [
        "print(df.states.value_counts())"
      ],
      "execution_count": null,
      "outputs": [
        {
          "output_type": "stream",
          "text": [
            "Northeast    14\n",
            "Southeast     9\n",
            "Midwest       9\n",
            "Northwest     7\n",
            "Southwest     6\n",
            "Central       5\n",
            "Name: states, dtype: int64\n"
          ],
          "name": "stdout"
        }
      ]
    },
    {
      "cell_type": "code",
      "metadata": {
        "id": "na_2HOFkhXCe"
      },
      "source": [
        "del df['state']"
      ],
      "execution_count": null,
      "outputs": []
    },
    {
      "cell_type": "code",
      "metadata": {
        "id": "0tOFE4u6iGdA",
        "colab": {
          "base_uri": "https://localhost:8080/",
          "height": 706
        },
        "outputId": "442cd1c3-4b0f-403d-81ca-43ab700e7d3a"
      },
      "source": [
        "df.sample(20)"
      ],
      "execution_count": null,
      "outputs": [
        {
          "output_type": "execute_result",
          "data": {
            "text/html": [
              "<div>\n",
              "<style scoped>\n",
              "    .dataframe tbody tr th:only-of-type {\n",
              "        vertical-align: middle;\n",
              "    }\n",
              "\n",
              "    .dataframe tbody tr th {\n",
              "        vertical-align: top;\n",
              "    }\n",
              "\n",
              "    .dataframe thead th {\n",
              "        text-align: right;\n",
              "    }\n",
              "</style>\n",
              "<table border=\"1\" class=\"dataframe\">\n",
              "  <thead>\n",
              "    <tr style=\"text-align: right;\">\n",
              "      <th></th>\n",
              "      <th>Unnamed: 0</th>\n",
              "      <th>vet_pop</th>\n",
              "      <th>overall_pop_18</th>\n",
              "      <th>vet_pop_p</th>\n",
              "      <th>vet_suicides</th>\n",
              "      <th>all_suicides</th>\n",
              "      <th>vet_suicides_p</th>\n",
              "      <th>vet_males</th>\n",
              "      <th>vet_males_p</th>\n",
              "      <th>vet_females</th>\n",
              "      <th>vet_females_p</th>\n",
              "      <th>vet_rate</th>\n",
              "      <th>civ_rate</th>\n",
              "      <th>states</th>\n",
              "    </tr>\n",
              "  </thead>\n",
              "  <tbody>\n",
              "    <tr>\n",
              "      <th>15</th>\n",
              "      <td>15</td>\n",
              "      <td>210240</td>\n",
              "      <td>2132796</td>\n",
              "      <td>0.098575</td>\n",
              "      <td>72.0</td>\n",
              "      <td>400</td>\n",
              "      <td>0.180000</td>\n",
              "      <td>70.0</td>\n",
              "      <td>0.972222</td>\n",
              "      <td>2.0</td>\n",
              "      <td>0.027778</td>\n",
              "      <td>34.246575</td>\n",
              "      <td>17.060621</td>\n",
              "      <td>Midwest</td>\n",
              "    </tr>\n",
              "    <tr>\n",
              "      <th>49</th>\n",
              "      <td>49</td>\n",
              "      <td>52415</td>\n",
              "      <td>430554</td>\n",
              "      <td>0.121739</td>\n",
              "      <td>30.0</td>\n",
              "      <td>132</td>\n",
              "      <td>0.227273</td>\n",
              "      <td>109.0</td>\n",
              "      <td>0.000000</td>\n",
              "      <td>0.0</td>\n",
              "      <td>0.000000</td>\n",
              "      <td>57.235524</td>\n",
              "      <td>26.974208</td>\n",
              "      <td>Northwest</td>\n",
              "    </tr>\n",
              "    <tr>\n",
              "      <th>18</th>\n",
              "      <td>18</td>\n",
              "      <td>128940</td>\n",
              "      <td>1056250</td>\n",
              "      <td>0.122073</td>\n",
              "      <td>30.0</td>\n",
              "      <td>198</td>\n",
              "      <td>0.151515</td>\n",
              "      <td>109.0</td>\n",
              "      <td>0.000000</td>\n",
              "      <td>3.0</td>\n",
              "      <td>0.000000</td>\n",
              "      <td>23.266636</td>\n",
              "      <td>18.116919</td>\n",
              "      <td>Northeast</td>\n",
              "    </tr>\n",
              "    <tr>\n",
              "      <th>46</th>\n",
              "      <td>46</td>\n",
              "      <td>597778</td>\n",
              "      <td>5194460</td>\n",
              "      <td>0.115080</td>\n",
              "      <td>207.0</td>\n",
              "      <td>955</td>\n",
              "      <td>0.216754</td>\n",
              "      <td>196.0</td>\n",
              "      <td>0.946860</td>\n",
              "      <td>11.0</td>\n",
              "      <td>0.053140</td>\n",
              "      <td>34.628240</td>\n",
              "      <td>16.272607</td>\n",
              "      <td>Northwest</td>\n",
              "    </tr>\n",
              "    <tr>\n",
              "      <th>47</th>\n",
              "      <td>47</td>\n",
              "      <td>155581</td>\n",
              "      <td>1467977</td>\n",
              "      <td>0.105983</td>\n",
              "      <td>70.0</td>\n",
              "      <td>277</td>\n",
              "      <td>0.252708</td>\n",
              "      <td>67.0</td>\n",
              "      <td>0.957143</td>\n",
              "      <td>3.0</td>\n",
              "      <td>0.042857</td>\n",
              "      <td>44.992640</td>\n",
              "      <td>15.772678</td>\n",
              "      <td>Southeast</td>\n",
              "    </tr>\n",
              "    <tr>\n",
              "      <th>13</th>\n",
              "      <td>13</td>\n",
              "      <td>458943</td>\n",
              "      <td>4915722</td>\n",
              "      <td>0.093362</td>\n",
              "      <td>164.0</td>\n",
              "      <td>861</td>\n",
              "      <td>0.190476</td>\n",
              "      <td>162.0</td>\n",
              "      <td>0.987805</td>\n",
              "      <td>2.0</td>\n",
              "      <td>0.012195</td>\n",
              "      <td>35.734285</td>\n",
              "      <td>15.639097</td>\n",
              "      <td>Northeast</td>\n",
              "    </tr>\n",
              "    <tr>\n",
              "      <th>40</th>\n",
              "      <td>40</td>\n",
              "      <td>70027</td>\n",
              "      <td>618454</td>\n",
              "      <td>0.113229</td>\n",
              "      <td>25.0</td>\n",
              "      <td>123</td>\n",
              "      <td>0.203252</td>\n",
              "      <td>109.0</td>\n",
              "      <td>0.000000</td>\n",
              "      <td>3.0</td>\n",
              "      <td>0.000000</td>\n",
              "      <td>35.700516</td>\n",
              "      <td>17.869288</td>\n",
              "      <td>Midwest</td>\n",
              "    </tr>\n",
              "    <tr>\n",
              "      <th>6</th>\n",
              "      <td>6</td>\n",
              "      <td>225987</td>\n",
              "      <td>2768440</td>\n",
              "      <td>0.081630</td>\n",
              "      <td>54.0</td>\n",
              "      <td>364</td>\n",
              "      <td>0.148352</td>\n",
              "      <td>109.0</td>\n",
              "      <td>0.000000</td>\n",
              "      <td>3.0</td>\n",
              "      <td>0.000000</td>\n",
              "      <td>23.895180</td>\n",
              "      <td>12.192949</td>\n",
              "      <td>Northeast</td>\n",
              "    </tr>\n",
              "    <tr>\n",
              "      <th>29</th>\n",
              "      <td>29</td>\n",
              "      <td>444887</td>\n",
              "      <td>6771714</td>\n",
              "      <td>0.065698</td>\n",
              "      <td>92.0</td>\n",
              "      <td>668</td>\n",
              "      <td>0.137725</td>\n",
              "      <td>89.0</td>\n",
              "      <td>0.967391</td>\n",
              "      <td>3.0</td>\n",
              "      <td>0.032609</td>\n",
              "      <td>20.679408</td>\n",
              "      <td>9.104090</td>\n",
              "      <td>Northeast</td>\n",
              "    </tr>\n",
              "    <tr>\n",
              "      <th>19</th>\n",
              "      <td>19</td>\n",
              "      <td>425963</td>\n",
              "      <td>4457846</td>\n",
              "      <td>0.095554</td>\n",
              "      <td>90.0</td>\n",
              "      <td>504</td>\n",
              "      <td>0.178571</td>\n",
              "      <td>109.0</td>\n",
              "      <td>0.000000</td>\n",
              "      <td>3.0</td>\n",
              "      <td>0.000000</td>\n",
              "      <td>21.128596</td>\n",
              "      <td>10.268155</td>\n",
              "      <td>Northeast</td>\n",
              "    </tr>\n",
              "    <tr>\n",
              "      <th>9</th>\n",
              "      <td>9</td>\n",
              "      <td>686591</td>\n",
              "      <td>7279776</td>\n",
              "      <td>0.094315</td>\n",
              "      <td>218.0</td>\n",
              "      <td>1133</td>\n",
              "      <td>0.192410</td>\n",
              "      <td>109.0</td>\n",
              "      <td>0.000000</td>\n",
              "      <td>3.0</td>\n",
              "      <td>0.000000</td>\n",
              "      <td>31.751072</td>\n",
              "      <td>13.877966</td>\n",
              "      <td>Southeast</td>\n",
              "    </tr>\n",
              "    <tr>\n",
              "      <th>20</th>\n",
              "      <td>20</td>\n",
              "      <td>386609</td>\n",
              "      <td>5177318</td>\n",
              "      <td>0.074674</td>\n",
              "      <td>59.0</td>\n",
              "      <td>597</td>\n",
              "      <td>0.098827</td>\n",
              "      <td>57.0</td>\n",
              "      <td>0.966102</td>\n",
              "      <td>2.0</td>\n",
              "      <td>0.033898</td>\n",
              "      <td>15.260897</td>\n",
              "      <td>11.230071</td>\n",
              "      <td>Northeast</td>\n",
              "    </tr>\n",
              "    <tr>\n",
              "      <th>37</th>\n",
              "      <td>37</td>\n",
              "      <td>954659</td>\n",
              "      <td>9976032</td>\n",
              "      <td>0.095695</td>\n",
              "      <td>285.0</td>\n",
              "      <td>1574</td>\n",
              "      <td>0.181067</td>\n",
              "      <td>276.0</td>\n",
              "      <td>0.968421</td>\n",
              "      <td>9.0</td>\n",
              "      <td>0.031579</td>\n",
              "      <td>29.853592</td>\n",
              "      <td>14.288291</td>\n",
              "      <td>Northeast</td>\n",
              "    </tr>\n",
              "    <tr>\n",
              "      <th>0</th>\n",
              "      <td>0</td>\n",
              "      <td>395753</td>\n",
              "      <td>3662910</td>\n",
              "      <td>0.108043</td>\n",
              "      <td>163.0</td>\n",
              "      <td>680</td>\n",
              "      <td>0.239706</td>\n",
              "      <td>109.0</td>\n",
              "      <td>0.000000</td>\n",
              "      <td>3.0</td>\n",
              "      <td>0.000000</td>\n",
              "      <td>41.187306</td>\n",
              "      <td>15.824155</td>\n",
              "      <td>Southeast</td>\n",
              "    </tr>\n",
              "    <tr>\n",
              "      <th>44</th>\n",
              "      <td>44</td>\n",
              "      <td>51373</td>\n",
              "      <td>499809</td>\n",
              "      <td>0.102785</td>\n",
              "      <td>18.0</td>\n",
              "      <td>124</td>\n",
              "      <td>0.145161</td>\n",
              "      <td>17.0</td>\n",
              "      <td>0.944444</td>\n",
              "      <td>1.0</td>\n",
              "      <td>0.055556</td>\n",
              "      <td>35.037860</td>\n",
              "      <td>23.637710</td>\n",
              "      <td>Northeast</td>\n",
              "    </tr>\n",
              "    <tr>\n",
              "      <th>39</th>\n",
              "      <td>39</td>\n",
              "      <td>398985</td>\n",
              "      <td>3563610</td>\n",
              "      <td>0.111961</td>\n",
              "      <td>158.0</td>\n",
              "      <td>645</td>\n",
              "      <td>0.244961</td>\n",
              "      <td>150.0</td>\n",
              "      <td>0.949367</td>\n",
              "      <td>8.0</td>\n",
              "      <td>0.050633</td>\n",
              "      <td>39.600486</td>\n",
              "      <td>15.388869</td>\n",
              "      <td>Southeast</td>\n",
              "    </tr>\n",
              "    <tr>\n",
              "      <th>45</th>\n",
              "      <td>45</td>\n",
              "      <td>734757</td>\n",
              "      <td>6137315</td>\n",
              "      <td>0.119720</td>\n",
              "      <td>197.0</td>\n",
              "      <td>981</td>\n",
              "      <td>0.200815</td>\n",
              "      <td>190.0</td>\n",
              "      <td>0.964467</td>\n",
              "      <td>7.0</td>\n",
              "      <td>0.035533</td>\n",
              "      <td>26.811585</td>\n",
              "      <td>14.511644</td>\n",
              "      <td>Southeast</td>\n",
              "    </tr>\n",
              "    <tr>\n",
              "      <th>33</th>\n",
              "      <td>33</td>\n",
              "      <td>55556</td>\n",
              "      <td>527822</td>\n",
              "      <td>0.105255</td>\n",
              "      <td>25.0</td>\n",
              "      <td>104</td>\n",
              "      <td>0.240385</td>\n",
              "      <td>25.0</td>\n",
              "      <td>1.000000</td>\n",
              "      <td>0.0</td>\n",
              "      <td>0.000000</td>\n",
              "      <td>44.999640</td>\n",
              "      <td>16.727861</td>\n",
              "      <td>Midwest</td>\n",
              "    </tr>\n",
              "    <tr>\n",
              "      <th>25</th>\n",
              "      <td>25</td>\n",
              "      <td>94872</td>\n",
              "      <td>772072</td>\n",
              "      <td>0.122880</td>\n",
              "      <td>55.0</td>\n",
              "      <td>224</td>\n",
              "      <td>0.245536</td>\n",
              "      <td>53.0</td>\n",
              "      <td>0.963636</td>\n",
              "      <td>2.0</td>\n",
              "      <td>0.036364</td>\n",
              "      <td>57.972848</td>\n",
              "      <td>24.955700</td>\n",
              "      <td>Northwest</td>\n",
              "    </tr>\n",
              "    <tr>\n",
              "      <th>1</th>\n",
              "      <td>1</td>\n",
              "      <td>72407</td>\n",
              "      <td>517799</td>\n",
              "      <td>0.139836</td>\n",
              "      <td>27.0</td>\n",
              "      <td>142</td>\n",
              "      <td>0.190141</td>\n",
              "      <td>24.0</td>\n",
              "      <td>0.888889</td>\n",
              "      <td>3.0</td>\n",
              "      <td>0.111111</td>\n",
              "      <td>37.289212</td>\n",
              "      <td>25.819952</td>\n",
              "      <td>Northwest</td>\n",
              "    </tr>\n",
              "  </tbody>\n",
              "</table>\n",
              "</div>"
            ],
            "text/plain": [
              "    Unnamed: 0  vet_pop  overall_pop_18  ...   vet_rate   civ_rate     states\n",
              "15          15   210240         2132796  ...  34.246575  17.060621    Midwest\n",
              "49          49    52415          430554  ...  57.235524  26.974208  Northwest\n",
              "18          18   128940         1056250  ...  23.266636  18.116919  Northeast\n",
              "46          46   597778         5194460  ...  34.628240  16.272607  Northwest\n",
              "47          47   155581         1467977  ...  44.992640  15.772678  Southeast\n",
              "13          13   458943         4915722  ...  35.734285  15.639097  Northeast\n",
              "40          40    70027          618454  ...  35.700516  17.869288    Midwest\n",
              "6            6   225987         2768440  ...  23.895180  12.192949  Northeast\n",
              "29          29   444887         6771714  ...  20.679408   9.104090  Northeast\n",
              "19          19   425963         4457846  ...  21.128596  10.268155  Northeast\n",
              "9            9   686591         7279776  ...  31.751072  13.877966  Southeast\n",
              "20          20   386609         5177318  ...  15.260897  11.230071  Northeast\n",
              "37          37   954659         9976032  ...  29.853592  14.288291  Northeast\n",
              "0            0   395753         3662910  ...  41.187306  15.824155  Southeast\n",
              "44          44    51373          499809  ...  35.037860  23.637710  Northeast\n",
              "39          39   398985         3563610  ...  39.600486  15.388869  Southeast\n",
              "45          45   734757         6137315  ...  26.811585  14.511644  Southeast\n",
              "33          33    55556          527822  ...  44.999640  16.727861    Midwest\n",
              "25          25    94872          772072  ...  57.972848  24.955700  Northwest\n",
              "1            1    72407          517799  ...  37.289212  25.819952  Northwest\n",
              "\n",
              "[20 rows x 14 columns]"
            ]
          },
          "metadata": {
            "tags": []
          },
          "execution_count": 22
        }
      ]
    },
    {
      "cell_type": "code",
      "metadata": {
        "id": "rRavjaK6npo_"
      },
      "source": [
        "df['states'].replace(('Northwest','Southwest', 'Central', 'Midwest', 'Southeast', 'Northeast'), (0,1,2,3,4,5), inplace=True)"
      ],
      "execution_count": null,
      "outputs": []
    },
    {
      "cell_type": "code",
      "metadata": {
        "id": "DbQ1O9I-klXx",
        "colab": {
          "base_uri": "https://localhost:8080/",
          "height": 272
        },
        "outputId": "f467bd01-b666-4d59-82ca-46b4bc4648be"
      },
      "source": [
        "corr = df.corr()\n",
        "corr.vet_suicides.sort_values(ascending=False)"
      ],
      "execution_count": null,
      "outputs": [
        {
          "output_type": "execute_result",
          "data": {
            "text/plain": [
              "vet_suicides      1.000000\n",
              "vet_pop           0.540572\n",
              "all_suicides      0.487285\n",
              "overall_pop_18    0.456256\n",
              "vet_males         0.416491\n",
              "vet_females       0.251847\n",
              "vet_suicides_p    0.213459\n",
              "vet_males_p       0.139031\n",
              "states            0.129268\n",
              "Unnamed: 0        0.060280\n",
              "vet_rate         -0.013221\n",
              "vet_females_p    -0.102727\n",
              "vet_pop_p        -0.201769\n",
              "civ_rate         -0.319687\n",
              "Name: vet_suicides, dtype: float64"
            ]
          },
          "metadata": {
            "tags": []
          },
          "execution_count": 24
        }
      ]
    },
    {
      "cell_type": "code",
      "metadata": {
        "id": "KHAJ4yGretQt"
      },
      "source": [
        "from sklearn.model_selection import train_test_split\n",
        "\n",
        "x=df.drop(['vet_pop','Unnamed: 0'], axis=1)\n",
        "y=df['vet_suicides']\n",
        "x_tain,x_val,y_train,y_val=train_test_split(x,y, test_size=0.1)"
      ],
      "execution_count": null,
      "outputs": []
    },
    {
      "cell_type": "code",
      "metadata": {
        "id": "m5Ji-tRPgXmg"
      },
      "source": [
        "import pickle"
      ],
      "execution_count": null,
      "outputs": []
    }
  ]
}
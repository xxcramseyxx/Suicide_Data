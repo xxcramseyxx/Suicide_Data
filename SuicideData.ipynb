import pandas as pd
import seaborn as sns
import matplotlib.pyplot as plt
df = pd.read_csv('/content/twentyeleven.csv')

graph = df['vet_suicides'].values
sns.distplot(graph, color='blue')
median = df['vet_suicides'].median()
plt.axvline(median, 0,1, color='orange')


df.loc[df['vet_suicides'] > 500, 'vet_suicides'] = df['vet_suicides'].median()


graph_as =df['all_suicides'].values
sns.distplot(graph_as, color='red')
median_as = df['all_suicides'].median()
plt.axvline(median_as, 0, 1, color='black')

df.loc[df['all_suicides'] >2500, 'all_suicides'] = df['all_suicides'].median()

for column in df:
  print(column, ':', df[column].isnull().sum())

df['vet_males'].fillna(df['vet_males'].median(), inplace=True)

df['vet_females'].fillna(df['vet_females'].median(), inplace=True)

del df['vet_15_24']
del df['vet_18_29']
del df['vet_17_34']
del df['vet_25_34']
del df['vet_30_39']
del df['vet_25_44']
del df['vet_35_44']
del df['vet_35-54']
del df['vet_40_49']
del df['vet_45_54']
del df['vet_50_59']
del df['vet_45_64']
del df['vet_55_64']
del df['vet_60']
del df['vet_65']

def get_state(name):
  return name

states = set([x for x in df['state'].map(lambda x: get_state(x))])
print(states)

def make_regions(x):
  states = x['state']
  if states in ['California', 'Oregon', 'Washington', 'Idaho', 'Montana', 'Wyoming','Alaska']:
    return 'Northwest'
  elif states in ['Nevada', 'Arizona', 'Hawaii', 'Utah', 'New Mexico', 'Wyoming','Colorado']:
    return 'Southwest'
  elif states in ['Texas', 'Arkansas', 'Oklahoma', 'Louisiana', 'Montana', 'Mississippi']:
    return 'Central'
  elif states in ['Missouri***', 'Kansas', 'Illinois', 'Wisconsin', 'Minnesota', 'North Dakota**','South Dakota','Nebraska', 'Iowa']:
    return 'Midwest'
  elif states in ['Alabama', 'Florida*', 'Georgia', 'Tennessee', 'West Virginia', 'Kentucky','Virginia','North Carolina', 'South Carolina']:
    return 'Southeast'
  elif states in ['Michigan', 'Ohio', 'New Jersey', 'Indiana', 'Pennsylvania', 'Maryland','Connecticut', 'New Hampshire','Vermont','Rhode Island', 'Massachusetts', 'Delaware', 'Maine','New York']:
    return 'Northeast'
  else:
    return states

df['states'] = df['state'].map(lambda x: get_state(x))

df ['states'] = df.apply(make_regions, axis=1)

print(df.states.value_counts())

del df['state']

df.sample(20)

df['states'].replace(('Northwest','Southwest', 'Central', 'Midwest', 'Southeast', 'Northeast'), (0,1,2,3,4,5), inplace=True)

corr = df.corr()
corr.vet_suicides.sort_values(ascending=False)

from sklearn.model_selection import train_test_split

x=df.drop(['vet_pop','Unnamed: 0'], axis=1)
y=df['vet_suicides']
x_tain,x_val,y_train,y_val=train_test_split(x,y, test_size=0.1)

import pickle
